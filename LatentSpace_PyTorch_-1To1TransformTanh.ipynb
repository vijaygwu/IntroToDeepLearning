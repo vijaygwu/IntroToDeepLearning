{
  "nbformat": 4,
  "nbformat_minor": 0,
  "metadata": {
    "colab": {
      "provenance": [],
      "machine_shape": "hm",
      "gpuType": "A100",
      "authorship_tag": "ABX9TyOKw2oFIGWnf2Z70Ecgs7BQ",
      "include_colab_link": true
    },
    "kernelspec": {
      "name": "python3",
      "display_name": "Python 3"
    },
    "language_info": {
      "name": "python"
    },
    "accelerator": "GPU"
  },
  "cells": [
    {
      "cell_type": "markdown",
      "metadata": {
        "id": "view-in-github",
        "colab_type": "text"
      },
      "source": [
        "<a href=\"https://colab.research.google.com/github/vijaygwu/IntroToDeepLearning/blob/main/LatentSpace_PyTorch_tanh.ipynb\" target=\"_parent\"><img src=\"https://colab.research.google.com/assets/colab-badge.svg\" alt=\"Open In Colab\"/></a>"
      ]
    },
    {
      "cell_type": "markdown",
      "source": [
        "The provided code defines and utilizes an Autoencoder neural network for the MNIST dataset. Here's a detailed explanation:\n",
        "\n",
        "- **Autoencoder Class**: This class creates a neural network with encoder and decoder components. The encoder compresses the input image into a lower-dimensional latent space, and the decoder reconstructs the image from this latent space. The network is structured to flatten and process 28x28 grayscale MNIST images.\n",
        "\n",
        "- **Data Loading**: Utilizes PyTorch's DataLoader to efficiently load the MNIST dataset, applying transformations to normalize the images.\n",
        "\n",
        "- **Training Loop**: Iterates over the training dataset, feeding batches of images through the model, calculating the reconstruction loss, and updating the model's weights to minimize this loss, effectively learning to compress and reconstruct the input images.\n",
        "\n",
        "- **Visualization**: After training, the script visualizes a batch of original images and their reconstructions from the autoencoder. It also prints the latent space representations, showcasing what the model has learned to encode.\n",
        "\n",
        "- **Utility Functions**: Includes `imshow` for displaying tensors as images. It unnormalizes the data and uses Matplotlib to plot them.\n",
        "\n",
        "This script encapsulates the end-to-end process of training an autoencoder on the MNIST dataset, visualizing the results, and examining the learned latent space."
      ],
      "metadata": {
        "id": "MXble1sY6GuN"
      }
    },
    {
      "cell_type": "code",
      "source": [
        "import torch\n",
        "import torch.nn as nn\n",
        "import torchvision\n",
        "import torchvision.transforms as transforms\n",
        "from torchvision.datasets import MNIST\n",
        "from torch.utils.data import DataLoader\n",
        "import matplotlib.pyplot as plt\n",
        "import torchvision.utils as vutils\n",
        "import numpy as np\n",
        "from torch.cuda.amp import GradScaler, autocast"
      ],
      "metadata": {
        "id": "QTp8sYxwBg-1"
      },
      "execution_count": null,
      "outputs": []
    },
    {
      "cell_type": "markdown",
      "source": [
        " The `Autoencoder` class inherits from `nn.Module`, a base class for all neural network modules in PyTorch. Here's a breakdown of the code and its functionality:\n",
        "\n",
        "### Initialization Method (`__init__`)\n",
        "- **Parameters**: The `__init__` method accepts a single parameter `encoding_dim`, which specifies the size of the latent space where the input data is compressed.\n",
        "- **Encoder**: The encoder part of the autoencoder is designed to compress the input data (in this case, an image) into a lower-dimensional representation called the latent space. It consists of a sequence of layers:\n",
        "  - `nn.Linear(28 * 28, 128)`: This layer flattens the input image (assumed to be 28x28 pixels, typical for MNIST dataset images) into a one-dimensional array and performs a linear transformation to reduce its dimension to 128.\n",
        "  - `nn.ReLU(True)`: A Rectified Linear Unit (ReLU) activation function is applied to introduce non-linearity, helping the model learn complex patterns.\n",
        "  - Another `nn.Linear(128, encoding_dim)`: Further reduces the dimension from 128 to the specified `encoding_dim`.\n",
        "  - Another `nn.ReLU(True)`: Another ReLU activation for non-linearity.\n",
        "- **Decoder**: The decoder part reconstructs the original input data from the compressed representation. It mirrors the encoder structure but in reverse, aiming to expand the compressed data back to its original shape:\n",
        "  - `nn.Linear(encoding_dim, 128)`: Expands the compressed data from `encoding_dim` back to 128.\n",
        "  - `nn.ReLU(True)`: Applies ReLU activation.\n",
        "  - `nn.Linear(128, 28 * 28)`: Transforms the data from 128 back to the flattened image size of 784 (28x28).\n",
        "  - `nn.tanh()`: Applies the hyperbolic tangent function element-wise to the input tensor.\n",
        "\n",
        "### Forward Method (`forward`)\n",
        "- **Parameter**: The `forward` method defines how the input `x` flows through the network.\n",
        "- **Process**:\n",
        "  - `x.view(-1, 28*28)`: First, the input `x` is reshaped into a one-dimensional array (flattened) if not already done.\n",
        "  - `self.encoder(x)`: The flattened `x` is then passed through the encoder.\n",
        "  - `self.decoder(x)`: The output from the encoder, which is the compressed representation, is fed into the decoder.\n",
        "- **Output**: The final output is reshaped back to the original image dimensions (`-1, 1, 28, 28`), where `-1` is a placeholder that automatically adjusts based on the batch size.\n"
      ],
      "metadata": {
        "id": "Lth1Gula4Sz_"
      }
    },
    {
      "cell_type": "code",
      "source": [
        "class Autoencoder(nn.Module):\n",
        "    def __init__(self, encoding_dim):\n",
        "        super(Autoencoder, self).__init__()\n",
        "        # Encoder: compresses the image into a lower-dimensional latent space\n",
        "        self.encoder = nn.Sequential(\n",
        "            nn.Linear(28 * 28, 128),  # Flatten the image and then linearly transform it\n",
        "            nn.ReLU(True),  # Non-linear activation function\n",
        "            nn.Linear(128, encoding_dim),  # Linear transformation to the encoding dimension\n",
        "            nn.ReLU(True)  # Non-linear activation function\n",
        "        )\n",
        "        # Decoder: reconstructs the image from the latent space\n",
        "        self.decoder = nn.Sequential(\n",
        "            nn.Linear(encoding_dim, 128),  # Linearly transforms the encoding\n",
        "            nn.ReLU(True),  # Non-linear activation function\n",
        "            nn.Linear(128, 28 * 28),  # Transforms back to original image shape\n",
        "            nn.Tanh()  # applies the hyperbolic tangent function element-wise to the input tensor.\n",
        "        )\n",
        "\n",
        "    def forward(self, x):\n",
        "        x = self.encoder(x.view(-1, 28*28))  # Encode the input image\n",
        "        x = self.decoder(x)  # Decode the encoded image\n",
        "        return x.view(-1, 1, 28, 28)  # Reshape to the original image dimensions"
      ],
      "metadata": {
        "id": "wWlX07fEBjL8"
      },
      "execution_count": null,
      "outputs": []
    },
    {
      "cell_type": "code",
      "source": [
        "\n",
        "def imshow(img):\n",
        "    img = img.cpu() / 2 + 0.5  # Unnormalize the image\n",
        "    npimg = img.numpy()  # Convert the tensor to a numpy array\n",
        "    plt.imshow(np.transpose(npimg, (1, 2, 0)))  # Reshape and display the image\n",
        "    plt.show()"
      ],
      "metadata": {
        "id": "yP7S8PazBoD5"
      },
      "execution_count": null,
      "outputs": []
    },
    {
      "cell_type": "markdown",
      "source": [
        "### Transform\n",
        "\n",
        "Transform is a crucial preprocessing step in many PyTorch workflows, ensuring that images are in the correct format and scale for efficient training of neural networks.\n",
        "\n",
        "1. **`transforms.Compose([])`**:\n",
        "   - `transforms.Compose` is a PyTorch function that allows you to chain together multiple image transformations. The transformations are applied in the order they are listed inside the brackets. This is useful when you need to apply several preprocessing steps to your images.\n",
        "\n",
        "2. **`transforms.ToTensor()`**:\n",
        "   - This transformation converts a PIL (Python Imaging Library) Image or a NumPy `ndarray` into a PyTorch tensor.\n",
        "   - **Why is this needed?**\n",
        "     - **Image to Tensor**: Neural networks in PyTorch expect input data in the form of tensors, so `ToTensor()` is necessary to convert the images from their original format (like JPEG or PNG) into a tensor format that PyTorch can use.\n",
        "     - **Range Conversion**: `ToTensor()` also scales the pixel values from the range `[0, 255]` (which is typical for image data) to `[0.0, 1.0]`. Each pixel's value is divided by 255.\n",
        "\n",
        "3. **`transforms.Normalize((0.5,), (0.5,))`**:\n",
        "   - This transformation normalizes the tensor, adjusting the values so that they have a mean of `0.5` and a standard deviation of `0.5`.\n",
        "   - **How it works**:\n",
        "     - The first argument `(0.5,)` specifies the mean value to subtract from each channel (in this case, the only channel since it's grayscale).\n",
        "     - The second argument `(0.5,)` specifies the standard deviation by which to divide each channel.\n",
        "    - This transforms the pixel values from the range `[0, 1]` to `[-1, 1]`.\n",
        "\n",
        "### Why These Transformations?\n",
        "\n",
        "1. **`ToTensor()`**:\n",
        "   - Converts the image into a format (tensor) that PyTorch models can work with.\n",
        "   - Scales the image pixel values to the range `[0.0, 1.0]`, which is a common preprocessing step for neural networks.\n",
        "\n",
        "2. **Normalization**:\n",
        "   - **Centered Data**: Normalizing the data to have a mean of 0 and a standard deviation of 1 (or close to it) helps the model learn more efficiently. For many neural networks, it's common to normalize data to have values between `-1` and `1`, which is what this normalization does.\n",
        "   - **Consistent Data**: Normalization ensures that each input channel (in this case, the grayscale channel) has a similar data distribution, which can speed up the convergence during training.\n",
        "\n",
        "### Practical Example\n",
        "\n",
        "If you are working with grayscale images, like the MNIST dataset where images are 28x28 pixels and have only one channel (grayscale), the transformation would work as follows:\n",
        "\n",
        "- **Original Image**: An image with pixel values ranging from 0 to 255.\n",
        "- **After `ToTensor()`**: The image is converted to a tensor with values ranging from 0.0 to 1.0.\n",
        "- **After `Normalize(0.5, 0.5)`**: The pixel values are shifted and scaled so that they fall within the range `[-1, 1]`.\n",
        "\n"
      ],
      "metadata": {
        "id": "4uO943VO6n7n"
      }
    },
    {
      "cell_type": "code",
      "source": [
        "# Transform: converts images to PyTorch tensors and normalizes them\n",
        "transform = transforms.Compose([\n",
        "    transforms.ToTensor(),\n",
        "    transforms.Normalize((0.5,), (0.5,))\n",
        "])\n"
      ],
      "metadata": {
        "id": "yJAgqh0TBrMa"
      },
      "execution_count": null,
      "outputs": []
    },
    {
      "cell_type": "code",
      "source": [
        "# MNIST dataset loading\n",
        "train_dataset = MNIST(root='./data', train=True, download=True, transform=transform)\n",
        "train_loader = DataLoader(dataset=train_dataset, batch_size=64, shuffle=True)"
      ],
      "metadata": {
        "id": "cQpswSgnBw4E",
        "outputId": "bce1b59a-0e58-4de3-b4ea-c800bbeb8764",
        "colab": {
          "base_uri": "https://localhost:8080/"
        }
      },
      "execution_count": null,
      "outputs": [
        {
          "output_type": "stream",
          "name": "stdout",
          "text": [
            "Downloading http://yann.lecun.com/exdb/mnist/train-images-idx3-ubyte.gz\n",
            "Failed to download (trying next):\n",
            "HTTP Error 403: Forbidden\n",
            "\n",
            "Downloading https://ossci-datasets.s3.amazonaws.com/mnist/train-images-idx3-ubyte.gz\n",
            "Downloading https://ossci-datasets.s3.amazonaws.com/mnist/train-images-idx3-ubyte.gz to ./data/MNIST/raw/train-images-idx3-ubyte.gz\n"
          ]
        },
        {
          "output_type": "stream",
          "name": "stderr",
          "text": [
            "100%|██████████| 9912422/9912422 [00:01<00:00, 8784841.36it/s] \n"
          ]
        },
        {
          "output_type": "stream",
          "name": "stdout",
          "text": [
            "Extracting ./data/MNIST/raw/train-images-idx3-ubyte.gz to ./data/MNIST/raw\n",
            "\n",
            "Downloading http://yann.lecun.com/exdb/mnist/train-labels-idx1-ubyte.gz\n",
            "Failed to download (trying next):\n",
            "HTTP Error 403: Forbidden\n",
            "\n",
            "Downloading https://ossci-datasets.s3.amazonaws.com/mnist/train-labels-idx1-ubyte.gz\n",
            "Downloading https://ossci-datasets.s3.amazonaws.com/mnist/train-labels-idx1-ubyte.gz to ./data/MNIST/raw/train-labels-idx1-ubyte.gz\n"
          ]
        },
        {
          "output_type": "stream",
          "name": "stderr",
          "text": [
            "100%|██████████| 28881/28881 [00:00<00:00, 1095338.67it/s]"
          ]
        },
        {
          "output_type": "stream",
          "name": "stdout",
          "text": [
            "Extracting ./data/MNIST/raw/train-labels-idx1-ubyte.gz to ./data/MNIST/raw\n",
            "\n",
            "Downloading http://yann.lecun.com/exdb/mnist/t10k-images-idx3-ubyte.gz\n"
          ]
        },
        {
          "output_type": "stream",
          "name": "stderr",
          "text": [
            "\n"
          ]
        },
        {
          "output_type": "stream",
          "name": "stdout",
          "text": [
            "Failed to download (trying next):\n",
            "HTTP Error 403: Forbidden\n",
            "\n",
            "Downloading https://ossci-datasets.s3.amazonaws.com/mnist/t10k-images-idx3-ubyte.gz\n",
            "Downloading https://ossci-datasets.s3.amazonaws.com/mnist/t10k-images-idx3-ubyte.gz to ./data/MNIST/raw/t10k-images-idx3-ubyte.gz\n"
          ]
        },
        {
          "output_type": "stream",
          "name": "stderr",
          "text": [
            "100%|██████████| 1648877/1648877 [00:00<00:00, 9498219.94it/s]\n"
          ]
        },
        {
          "output_type": "stream",
          "name": "stdout",
          "text": [
            "Extracting ./data/MNIST/raw/t10k-images-idx3-ubyte.gz to ./data/MNIST/raw\n",
            "\n",
            "Downloading http://yann.lecun.com/exdb/mnist/t10k-labels-idx1-ubyte.gz\n",
            "Failed to download (trying next):\n",
            "HTTP Error 403: Forbidden\n",
            "\n",
            "Downloading https://ossci-datasets.s3.amazonaws.com/mnist/t10k-labels-idx1-ubyte.gz\n",
            "Downloading https://ossci-datasets.s3.amazonaws.com/mnist/t10k-labels-idx1-ubyte.gz to ./data/MNIST/raw/t10k-labels-idx1-ubyte.gz\n"
          ]
        },
        {
          "output_type": "stream",
          "name": "stderr",
          "text": [
            "100%|██████████| 4542/4542 [00:00<00:00, 12950733.36it/s]"
          ]
        },
        {
          "output_type": "stream",
          "name": "stdout",
          "text": [
            "Extracting ./data/MNIST/raw/t10k-labels-idx1-ubyte.gz to ./data/MNIST/raw\n",
            "\n"
          ]
        },
        {
          "output_type": "stream",
          "name": "stderr",
          "text": [
            "\n"
          ]
        }
      ]
    },
    {
      "cell_type": "code",
      "source": [
        "device = torch.device(\"cuda\" if torch.cuda.is_available() else \"cpu\")\n",
        "model = Autoencoder(encoding_dim=64).to(device)\n",
        "criterion = nn.MSELoss()  # Loss function\n",
        "optimizer = torch.optim.Adam(model.parameters(), lr=1e-3)  # Optimizer"
      ],
      "metadata": {
        "id": "W8NemtCtB35p"
      },
      "execution_count": null,
      "outputs": []
    },
    {
      "cell_type": "code",
      "source": [
        "# Training loop\n",
        "num_epochs = 50\n",
        "scaler = GradScaler()\n",
        "\n",
        "for epoch in range(num_epochs):\n",
        "    for data in train_loader:\n",
        "        img, _ = data\n",
        "        img = img.to(device)\n",
        "\n",
        "        with autocast():\n",
        "            output = model(img)\n",
        "            loss = criterion(output, img)\n",
        "\n",
        "        optimizer.zero_grad()\n",
        "        scaler.scale(loss).backward()\n",
        "        scaler.step(optimizer)\n",
        "        scaler.update()\n",
        "    print('Epoch [{}/{}], Loss:{:.4f}'.format(epoch+1, num_epochs, loss.item()))\n",
        "\n",
        "\n"
      ],
      "metadata": {
        "colab": {
          "base_uri": "https://localhost:8080/"
        },
        "id": "GRk72snY6LPD",
        "outputId": "154b2be9-9c8c-435f-c097-0a0f552dcf3b"
      },
      "execution_count": null,
      "outputs": [
        {
          "output_type": "stream",
          "name": "stderr",
          "text": [
            "<ipython-input-17-2a29fac7d930>:3: FutureWarning: `torch.cuda.amp.GradScaler(args...)` is deprecated. Please use `torch.amp.GradScaler('cuda', args...)` instead.\n",
            "  scaler = GradScaler()\n",
            "<ipython-input-17-2a29fac7d930>:10: FutureWarning: `torch.cuda.amp.autocast(args...)` is deprecated. Please use `torch.amp.autocast('cuda', args...)` instead.\n",
            "  with autocast():\n"
          ]
        },
        {
          "output_type": "stream",
          "name": "stdout",
          "text": [
            "Epoch [1/50], Loss:0.0269\n",
            "Epoch [2/50], Loss:0.0249\n",
            "Epoch [3/50], Loss:0.0280\n",
            "Epoch [4/50], Loss:0.0263\n",
            "Epoch [5/50], Loss:0.0300\n",
            "Epoch [6/50], Loss:0.0273\n",
            "Epoch [7/50], Loss:0.0250\n",
            "Epoch [8/50], Loss:0.0281\n",
            "Epoch [9/50], Loss:0.0253\n",
            "Epoch [10/50], Loss:0.0210\n",
            "Epoch [11/50], Loss:0.0238\n",
            "Epoch [12/50], Loss:0.0248\n",
            "Epoch [13/50], Loss:0.0246\n",
            "Epoch [14/50], Loss:0.0249\n",
            "Epoch [15/50], Loss:0.0218\n",
            "Epoch [16/50], Loss:0.0246\n",
            "Epoch [17/50], Loss:0.0255\n",
            "Epoch [18/50], Loss:0.0212\n",
            "Epoch [19/50], Loss:0.0222\n",
            "Epoch [20/50], Loss:0.0229\n",
            "Epoch [21/50], Loss:0.0221\n",
            "Epoch [22/50], Loss:0.0245\n",
            "Epoch [23/50], Loss:0.0182\n",
            "Epoch [24/50], Loss:0.0215\n",
            "Epoch [25/50], Loss:0.0212\n",
            "Epoch [26/50], Loss:0.0206\n",
            "Epoch [27/50], Loss:0.0230\n",
            "Epoch [28/50], Loss:0.0238\n",
            "Epoch [29/50], Loss:0.0231\n",
            "Epoch [30/50], Loss:0.0222\n",
            "Epoch [31/50], Loss:0.0232\n",
            "Epoch [32/50], Loss:0.0200\n",
            "Epoch [33/50], Loss:0.0213\n",
            "Epoch [34/50], Loss:0.0210\n",
            "Epoch [35/50], Loss:0.0245\n",
            "Epoch [36/50], Loss:0.0280\n",
            "Epoch [37/50], Loss:0.0192\n",
            "Epoch [38/50], Loss:0.0236\n",
            "Epoch [39/50], Loss:0.0217\n",
            "Epoch [40/50], Loss:0.0215\n",
            "Epoch [41/50], Loss:0.0203\n",
            "Epoch [42/50], Loss:0.0173\n",
            "Epoch [43/50], Loss:0.0182\n",
            "Epoch [44/50], Loss:0.0243\n",
            "Epoch [45/50], Loss:0.0225\n",
            "Epoch [46/50], Loss:0.0232\n",
            "Epoch [47/50], Loss:0.0240\n",
            "Epoch [48/50], Loss:0.0219\n",
            "Epoch [49/50], Loss:0.0252\n",
            "Epoch [50/50], Loss:0.0155\n"
          ]
        }
      ]
    },
    {
      "cell_type": "code",
      "source": [
        "# Function to display a grid of images\n",
        "def imshow(img, title=None):\n",
        "    npimg = img.cpu().numpy()  # Move the image to CPU and convert to numpy\n",
        "    plt.imshow(np.transpose(npimg, (1, 2, 0)))\n",
        "    if title is not None:\n",
        "        plt.title(title)\n",
        "    plt.show()\n",
        "\n",
        "# Visualization of the original and reconstructed images\n",
        "dataiter = iter(train_loader)\n",
        "images, _ = next(dataiter)\n",
        "images = images.to(device)\n",
        "\n",
        "\n",
        "\n",
        "# Flatten the images to get their original vector representations\n",
        "original_vectors = images.view(-1, 28*28)[:4]\n",
        "print(\"Original Vector Representations:\")\n",
        "print(original_vectors)\n",
        "\n",
        "# Display original images\n",
        "print(\"Original Images\")\n",
        "imshow(vutils.make_grid(images[:4], normalize=True), title=\"Original Images\")\n",
        "\n",
        "# Encoded and decoded images\n",
        "with torch.no_grad():\n",
        "    # Pass the original vector representations through the encoder to get latent space representations\n",
        "    encoded_imgs = model.encoder(original_vectors)\n",
        "\n",
        "    # Decode the latent space representations back into images\n",
        "    decoded_imgs = model.decoder(encoded_imgs).view(-1, 1, 28, 28)\n",
        "\n",
        "# Print latent space representations\n",
        "print(\"Latent space representations:\")\n",
        "print(encoded_imgs)\n",
        "\n",
        "\n",
        "# Display reconstructed images\n",
        "print(\"Reconstructed Images\")\n",
        "imshow(vutils.make_grid(decoded_imgs, normalize=True), title=\"Reconstructed Images\")\n",
        "\n",
        "# Flatten the decoded images to print their vector representations\n",
        "decoded_vectors = decoded_imgs.view(-1, 28*28)\n",
        "print(\"Decoded Image Representations (as vectors):\")\n",
        "print(decoded_vectors)\n"
      ],
      "metadata": {
        "colab": {
          "base_uri": "https://localhost:8080/",
          "height": 1000
        },
        "id": "LND6_YbB4SI1",
        "outputId": "d7a69db8-79bf-466d-91ab-0f0f61bc933a"
      },
      "execution_count": null,
      "outputs": [
        {
          "output_type": "stream",
          "name": "stdout",
          "text": [
            "Original Vector Representations:\n",
            "tensor([[-1., -1., -1.,  ..., -1., -1., -1.],\n",
            "        [-1., -1., -1.,  ..., -1., -1., -1.],\n",
            "        [-1., -1., -1.,  ..., -1., -1., -1.],\n",
            "        [-1., -1., -1.,  ..., -1., -1., -1.]], device='cuda:0')\n",
            "Original Images\n"
          ]
        },
        {
          "output_type": "display_data",
          "data": {
            "text/plain": [
              "<Figure size 640x480 with 1 Axes>"
            ],
            "image/png": "[encoded data removed]"
          },
          "metadata": {}
        },
        {
          "output_type": "stream",
          "name": "stdout",
          "text": [
            "Latent space representations:\n",
            "tensor([[ 0.0000,  6.3770,  6.4678,  4.0172,  4.7846, 10.9537,  6.5730,  1.7258,\n",
            "          0.0000,  7.2541,  5.6369,  6.9409,  0.0000,  8.1006,  6.3063,  9.0000,\n",
            "          0.0000,  1.5493,  0.0000,  5.6072,  0.0000,  0.5637,  0.0000,  2.1501,\n",
            "          5.7988,  3.0244,  0.0000,  7.9700,  0.0000,  5.8801,  3.1871,  6.0026,\n",
            "          0.0000,  7.2144,  0.0000,  5.5412,  5.2316,  0.0000,  0.0000,  4.1109,\n",
            "          0.0000,  0.0000,  8.5169,  0.0000,  0.0000,  8.4391,  7.3572, 10.0229,\n",
            "          0.0000,  6.9775,  3.2906,  0.0000,  5.5727,  6.3572,  0.0000,  7.3613,\n",
            "          6.7695,  0.0000,  5.2960,  4.5493,  5.8390,  2.7260,  0.0000,  6.6112],\n",
            "        [ 0.0000,  2.4577,  6.0125,  3.4825, 10.6451,  2.4035, 10.5031,  7.7219,\n",
            "          0.0000,  9.8301,  4.5376,  9.0867,  0.0000,  2.8916,  1.4042,  8.9001,\n",
            "          0.0000,  5.2475,  0.0000,  7.3077,  0.0000,  9.0037,  0.0000,  6.1777,\n",
            "          6.0487,  6.6091,  0.0000,  8.3514,  0.0000, 10.9628,  5.8370,  8.2696,\n",
            "          0.0000,  7.3729,  0.0000,  5.0805,  4.1272,  0.0000,  0.0000,  8.3619,\n",
            "          0.0000,  0.0000,  1.4891,  0.0000,  0.0000,  3.9315, 11.0301,  9.7871,\n",
            "          0.0000,  2.4857,  2.9229,  0.0000,  5.6061,  2.8995,  0.0000,  5.3226,\n",
            "          0.6925,  0.0000,  5.8641,  7.7650,  7.7235,  8.1981,  0.0000,  5.5800],\n",
            "        [ 0.0000,  6.2800,  4.9579,  1.0366,  7.1631,  0.8152,  3.3724,  8.1289,\n",
            "          0.0000,  3.9927, 12.4579,  8.7784,  0.0000,  7.7773,  6.5393,  5.7474,\n",
            "          0.0000,  7.3703,  0.0000,  5.5862,  0.0000, 14.7726,  0.0000,  3.9858,\n",
            "          5.3597,  4.7314,  0.0000,  1.3727,  0.0000,  5.7883,  4.8544, 10.2075,\n",
            "          0.0000,  2.2182,  0.0000,  8.5018,  8.3380,  0.0000,  0.0000,  5.9496,\n",
            "          0.0000,  0.0000,  8.8534,  0.0000,  0.0000,  2.0774,  5.5875, 13.4255,\n",
            "          0.0000,  7.0871,  4.8505,  0.0000,  9.7894,  9.2016,  0.0000,  5.1815,\n",
            "          7.6589,  0.0000,  9.8540,  8.0852,  5.4298,  5.7611,  0.0000,  7.5094],\n",
            "        [ 0.0000,  7.3349,  9.3321,  3.9571,  6.1477, 11.3031,  9.7621,  6.4752,\n",
            "          0.0000,  8.0067,  0.0000,  3.8293,  0.0000,  7.6173,  8.6342,  7.7368,\n",
            "          0.0000,  4.0150,  0.0000, 13.7788,  0.0000,  6.9932,  0.0000,  5.6021,\n",
            "          2.2784,  7.9902,  0.0000,  9.8371,  0.0000,  7.9671,  4.7754,  4.3014,\n",
            "          0.0000,  7.2988,  0.0000,  6.2946,  4.6391,  0.0000,  0.0000,  8.2734,\n",
            "          0.0000,  0.0000,  6.4223,  0.0000,  0.0000,  6.4222,  8.4793,  4.8509,\n",
            "          0.0000,  8.7123,  5.3053,  0.0000,  6.8110,  6.3955,  0.0000,  3.8029,\n",
            "          4.9950,  0.0000,  3.4020,  5.3514,  7.3807,  8.7482,  0.0000,  4.2010]],\n",
            "       device='cuda:0')\n",
            "Reconstructed Images\n"
          ]
        },
        {
          "output_type": "display_data",
          "data": {
            "text/plain": [
              "<Figure size 640x480 with 1 Axes>"
            ],
            "image/png": "[encoded data removed]"
          },
          "metadata": {}
        },
        {
          "output_type": "stream",
          "name": "stdout",
          "text": [
            "Decoded Image Representations (as vectors):\n",
            "tensor([[-1.0000, -1.0000, -1.0000,  ..., -1.0000, -1.0000, -1.0000],\n",
            "        [-1.0000, -1.0000, -1.0000,  ..., -1.0000, -1.0000, -1.0000],\n",
            "        [-1.0000, -1.0000, -1.0000,  ..., -1.0000, -1.0000, -1.0000],\n",
            "        [-1.0000, -1.0000, -1.0000,  ..., -1.0000, -1.0000, -1.0000]],\n",
            "       device='cuda:0')\n"
          ]
        }
      ]
    }
  ]
}
