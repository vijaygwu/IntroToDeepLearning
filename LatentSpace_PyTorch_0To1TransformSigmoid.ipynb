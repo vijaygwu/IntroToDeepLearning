{
  "nbformat": 4,
  "nbformat_minor": 0,
  "metadata": {
    "colab": {
      "provenance": [],
      "machine_shape": "hm",
      "gpuType": "L4",
      "authorship_tag": "ABX9TyNutjOsrNuLiCl9ydqGuMDy",
      "include_colab_link": true
    },
    "kernelspec": {
      "name": "python3",
      "display_name": "Python 3"
    },
    "language_info": {
      "name": "python"
    },
    "accelerator": "GPU"
  },
  "cells": [
    {
      "cell_type": "markdown",
      "metadata": {
        "id": "view-in-github",
        "colab_type": "text"
      },
      "source": [
        "<a href=\"https://colab.research.google.com/github/vijaygwu/IntroToDeepLearning/blob/main/LatentSpace_PyTorch_0To1TransformSigmoid.ipynb\" target=\"_parent\"><img src=\"https://colab.research.google.com/assets/colab-badge.svg\" alt=\"Open In Colab\"/></a>"
      ]
    },
    {
      "cell_type": "markdown",
      "source": [
        "The provided code defines and utilizes an Autoencoder neural network for the MNIST dataset. Here's a detailed explanation:\n",
        "\n",
        "- **Autoencoder Class**: This class creates a neural network with encoder and decoder components. The encoder compresses the input image into a lower-dimensional latent space, and the decoder reconstructs the image from this latent space. The network is structured to flatten and process 28x28 grayscale MNIST images.\n",
        "\n",
        "- **Data Loading**: Utilizes PyTorch's DataLoader to efficiently load the MNIST dataset, applying transformations to normalize the images.\n",
        "\n",
        "- **Training Loop**: Iterates over the training dataset, feeding batches of images through the model, calculating the reconstruction loss, and updating the model's weights to minimize this loss, effectively learning to compress and reconstruct the input images.\n",
        "\n",
        "- **Visualization**: After training, the script visualizes a batch of original images and their reconstructions from the autoencoder. It also prints the latent space representations, showcasing what the model has learned to encode.\n",
        "\n",
        "- **Utility Functions**: Includes `imshow` for displaying tensors as images. It unnormalizes the data and uses Matplotlib to plot them.\n",
        "\n",
        "This script encapsulates the end-to-end process of training an autoencoder on the MNIST dataset, visualizing the results, and examining the learned latent space."
      ],
      "metadata": {
        "id": "MXble1sY6GuN"
      }
    },
    {
      "cell_type": "code",
      "source": [
        "import torch\n",
        "import torch.nn as nn\n",
        "import torchvision\n",
        "import torchvision.transforms as transforms\n",
        "from torchvision.datasets import MNIST\n",
        "from torch.utils.data import DataLoader\n",
        "import matplotlib.pyplot as plt\n",
        "import torchvision.utils as vutils\n",
        "import numpy as np\n",
        "from torch.cuda.amp import GradScaler, autocast"
      ],
      "metadata": {
        "id": "QTp8sYxwBg-1"
      },
      "execution_count": 1,
      "outputs": []
    },
    {
      "cell_type": "markdown",
      "source": [
        " The `Autoencoder` class inherits from `nn.Module`, a base class for all neural network modules in PyTorch. Here's a breakdown of the code and its functionality:\n",
        "\n",
        "### Initialization Method (`__init__`)\n",
        "- **Parameters**: The `__init__` method accepts a single parameter `encoding_dim`, which specifies the size of the latent space where the input data is compressed.\n",
        "- **Encoder**: The encoder part of the autoencoder is designed to compress the input data (in this case, an image) into a lower-dimensional representation called the latent space. It consists of a sequence of layers:\n",
        "  - `nn.Linear(28 * 28, 128)`: This layer flattens the input image (assumed to be 28x28 pixels, typical for MNIST dataset images) into a one-dimensional array and performs a linear transformation to reduce its dimension to 128.\n",
        "  - `nn.ReLU(True)`: A Rectified Linear Unit (ReLU) activation function is applied to introduce non-linearity, helping the model learn complex patterns.\n",
        "  - Another `nn.Linear(128, encoding_dim)`: Further reduces the dimension from 128 to the specified `encoding_dim`.\n",
        "  - Another `nn.ReLU(True)`: Another ReLU activation for non-linearity.\n",
        "- **Decoder**: The decoder part reconstructs the original input data from the compressed representation. It mirrors the encoder structure but in reverse, aiming to expand the compressed data back to its original shape:\n",
        "  - `nn.Linear(encoding_dim, 128)`: Expands the compressed data from `encoding_dim` back to 128.\n",
        "  - `nn.ReLU(True)`: Applies ReLU activation.\n",
        "  - `nn.Linear(128, 28 * 28)`: Transforms the data from 128 back to the flattened image size of 784 (28x28).\n",
        "  - `nn.Sigmoid()`: Applies a sigmoid activation function to ensure the output values are between 0 and 1, suitable for image data where pixel values typically fall within this range.\n",
        "\n",
        "### Forward Method (`forward`)\n",
        "- **Parameter**: The `forward` method defines how the input `x` flows through the network.\n",
        "- **Process**:\n",
        "  - `x.view(-1, 28*28)`: First, the input `x` is reshaped into a one-dimensional array (flattened) if not already done.\n",
        "  - `self.encoder(x)`: The flattened `x` is then passed through the encoder.\n",
        "  - `self.decoder(x)`: The output from the encoder, which is the compressed representation, is fed into the decoder.\n",
        "- **Output**: The final output is reshaped back to the original image dimensions (`-1, 1, 28, 28`), where `-1` is a placeholder that automatically adjusts based on the batch size.\n"
      ],
      "metadata": {
        "id": "Lth1Gula4Sz_"
      }
    },
    {
      "cell_type": "code",
      "source": [
        "class Autoencoder(nn.Module):\n",
        "    def __init__(self, encoding_dim):\n",
        "        super(Autoencoder, self).__init__()\n",
        "        # Encoder: compresses the image into a lower-dimensional latent space\n",
        "        self.encoder = nn.Sequential(\n",
        "            nn.Linear(28 * 28, 128),  # Flatten the image and then linearly transform it\n",
        "            nn.ReLU(True),  # Non-linear activation function\n",
        "            nn.Linear(128, encoding_dim),  # Linear transformation to the encoding dimension\n",
        "            nn.ReLU(True)  # Non-linear activation function\n",
        "        )\n",
        "        # Decoder: reconstructs the image from the latent space\n",
        "        self.decoder = nn.Sequential(\n",
        "            nn.Linear(encoding_dim, 128),  # Linearly transforms the encoding\n",
        "            nn.ReLU(True),  # Non-linear activation function\n",
        "            nn.Linear(128, 28 * 28),  # Transforms back to original image shape\n",
        "            nn.Sigmoid()  # Sigmoid activation to output values between 0 and 1\n",
        "        )\n",
        "\n",
        "    def forward(self, x):\n",
        "        x = self.encoder(x.view(-1, 28*28))  # Encode the input image\n",
        "        x = self.decoder(x)  # Decode the encoded image\n",
        "        return x.view(-1, 1, 28, 28)  # Reshape to the original image dimensions"
      ],
      "metadata": {
        "id": "wWlX07fEBjL8"
      },
      "execution_count": 2,
      "outputs": []
    },
    {
      "cell_type": "code",
      "source": [
        "\n",
        "def imshow(img):\n",
        "    img = img.cpu() / 2 + 0.5  # Unnormalize the image\n",
        "    npimg = img.numpy()  # Convert the tensor to a numpy array\n",
        "    plt.imshow(np.transpose(npimg, (1, 2, 0)))  # Reshape and display the image\n",
        "    plt.show()"
      ],
      "metadata": {
        "id": "yP7S8PazBoD5"
      },
      "execution_count": 3,
      "outputs": []
    },
    {
      "cell_type": "code",
      "source": [
        "# Transform: converts images to PyTorch tensors\n",
        "transform = transforms.Compose([\n",
        "    transforms.ToTensor()\n",
        "])\n"
      ],
      "metadata": {
        "id": "yJAgqh0TBrMa"
      },
      "execution_count": 4,
      "outputs": []
    },
    {
      "cell_type": "code",
      "source": [
        "# MNIST dataset loading\n",
        "train_dataset = MNIST(root='./data', train=True, download=True, transform=transform)\n",
        "train_loader = DataLoader(dataset=train_dataset, batch_size=64, shuffle=True)"
      ],
      "metadata": {
        "id": "cQpswSgnBw4E",
        "outputId": "9160981c-ee60-46fd-cb53-422f98427446",
        "colab": {
          "base_uri": "https://localhost:8080/"
        }
      },
      "execution_count": 5,
      "outputs": [
        {
          "output_type": "stream",
          "name": "stdout",
          "text": [
            "Downloading http://yann.lecun.com/exdb/mnist/train-images-idx3-ubyte.gz\n",
            "Failed to download (trying next):\n",
            "HTTP Error 403: Forbidden\n",
            "\n",
            "Downloading https://ossci-datasets.s3.amazonaws.com/mnist/train-images-idx3-ubyte.gz\n",
            "Downloading https://ossci-datasets.s3.amazonaws.com/mnist/train-images-idx3-ubyte.gz to ./data/MNIST/raw/train-images-idx3-ubyte.gz\n"
          ]
        },
        {
          "output_type": "stream",
          "name": "stderr",
          "text": [
            "100%|██████████| 9912422/9912422 [00:01<00:00, 5084122.44it/s]\n"
          ]
        },
        {
          "output_type": "stream",
          "name": "stdout",
          "text": [
            "Extracting ./data/MNIST/raw/train-images-idx3-ubyte.gz to ./data/MNIST/raw\n",
            "\n",
            "Downloading http://yann.lecun.com/exdb/mnist/train-labels-idx1-ubyte.gz\n",
            "Failed to download (trying next):\n",
            "HTTP Error 403: Forbidden\n",
            "\n",
            "Downloading https://ossci-datasets.s3.amazonaws.com/mnist/train-labels-idx1-ubyte.gz\n",
            "Downloading https://ossci-datasets.s3.amazonaws.com/mnist/train-labels-idx1-ubyte.gz to ./data/MNIST/raw/train-labels-idx1-ubyte.gz\n"
          ]
        },
        {
          "output_type": "stream",
          "name": "stderr",
          "text": [
            "100%|██████████| 28881/28881 [00:00<00:00, 132909.63it/s]\n"
          ]
        },
        {
          "output_type": "stream",
          "name": "stdout",
          "text": [
            "Extracting ./data/MNIST/raw/train-labels-idx1-ubyte.gz to ./data/MNIST/raw\n",
            "\n",
            "Downloading http://yann.lecun.com/exdb/mnist/t10k-images-idx3-ubyte.gz\n",
            "Failed to download (trying next):\n",
            "HTTP Error 403: Forbidden\n",
            "\n",
            "Downloading https://ossci-datasets.s3.amazonaws.com/mnist/t10k-images-idx3-ubyte.gz\n",
            "Downloading https://ossci-datasets.s3.amazonaws.com/mnist/t10k-images-idx3-ubyte.gz to ./data/MNIST/raw/t10k-images-idx3-ubyte.gz\n"
          ]
        },
        {
          "output_type": "stream",
          "name": "stderr",
          "text": [
            "100%|██████████| 1648877/1648877 [00:01<00:00, 1269361.02it/s]\n"
          ]
        },
        {
          "output_type": "stream",
          "name": "stdout",
          "text": [
            "Extracting ./data/MNIST/raw/t10k-images-idx3-ubyte.gz to ./data/MNIST/raw\n",
            "\n",
            "Downloading http://yann.lecun.com/exdb/mnist/t10k-labels-idx1-ubyte.gz\n",
            "Failed to download (trying next):\n",
            "HTTP Error 403: Forbidden\n",
            "\n",
            "Downloading https://ossci-datasets.s3.amazonaws.com/mnist/t10k-labels-idx1-ubyte.gz\n",
            "Downloading https://ossci-datasets.s3.amazonaws.com/mnist/t10k-labels-idx1-ubyte.gz to ./data/MNIST/raw/t10k-labels-idx1-ubyte.gz\n"
          ]
        },
        {
          "output_type": "stream",
          "name": "stderr",
          "text": [
            "100%|██████████| 4542/4542 [00:00<00:00, 5616311.55it/s]"
          ]
        },
        {
          "output_type": "stream",
          "name": "stdout",
          "text": [
            "Extracting ./data/MNIST/raw/t10k-labels-idx1-ubyte.gz to ./data/MNIST/raw\n",
            "\n"
          ]
        },
        {
          "output_type": "stream",
          "name": "stderr",
          "text": [
            "\n"
          ]
        }
      ]
    },
    {
      "cell_type": "code",
      "source": [
        "device = torch.device(\"cuda\" if torch.cuda.is_available() else \"cpu\")\n",
        "model = Autoencoder(encoding_dim=64).to(device)\n",
        "criterion = nn.MSELoss()  # Loss function\n",
        "optimizer = torch.optim.Adam(model.parameters(), lr=1e-3)  # Optimizer"
      ],
      "metadata": {
        "id": "W8NemtCtB35p"
      },
      "execution_count": 6,
      "outputs": []
    },
    {
      "cell_type": "code",
      "source": [
        "# Training loop\n",
        "num_epochs = 50\n",
        "scaler = GradScaler()\n",
        "\n",
        "for epoch in range(num_epochs):\n",
        "    for data in train_loader:\n",
        "        img, _ = data\n",
        "        img = img.to(device)\n",
        "\n",
        "        with autocast():\n",
        "            output = model(img)\n",
        "            loss = criterion(output, img)\n",
        "\n",
        "        optimizer.zero_grad()\n",
        "        scaler.scale(loss).backward()\n",
        "        scaler.step(optimizer)\n",
        "        scaler.update()\n",
        "    print('Epoch [{}/{}], Loss:{:.4f}'.format(epoch+1, num_epochs, loss.item()))\n",
        "\n",
        "\n"
      ],
      "metadata": {
        "colab": {
          "base_uri": "https://localhost:8080/"
        },
        "id": "GRk72snY6LPD",
        "outputId": "9d5a98d3-6c2c-4f51-b15c-bce44db7d1e0"
      },
      "execution_count": 10,
      "outputs": [
        {
          "output_type": "stream",
          "name": "stderr",
          "text": [
            "<ipython-input-10-2a29fac7d930>:3: FutureWarning: `torch.cuda.amp.GradScaler(args...)` is deprecated. Please use `torch.amp.GradScaler('cuda', args...)` instead.\n",
            "  scaler = GradScaler()\n",
            "<ipython-input-10-2a29fac7d930>:10: FutureWarning: `torch.cuda.amp.autocast(args...)` is deprecated. Please use `torch.amp.autocast('cuda', args...)` instead.\n",
            "  with autocast():\n"
          ]
        },
        {
          "output_type": "stream",
          "name": "stdout",
          "text": [
            "Epoch [1/50], Loss:0.0054\n",
            "Epoch [2/50], Loss:0.0057\n",
            "Epoch [3/50], Loss:0.0047\n",
            "Epoch [4/50], Loss:0.0043\n",
            "Epoch [5/50], Loss:0.0066\n",
            "Epoch [6/50], Loss:0.0046\n",
            "Epoch [7/50], Loss:0.0054\n",
            "Epoch [8/50], Loss:0.0052\n",
            "Epoch [9/50], Loss:0.0051\n",
            "Epoch [10/50], Loss:0.0051\n",
            "Epoch [11/50], Loss:0.0046\n",
            "Epoch [12/50], Loss:0.0051\n",
            "Epoch [13/50], Loss:0.0055\n",
            "Epoch [14/50], Loss:0.0048\n",
            "Epoch [15/50], Loss:0.0048\n",
            "Epoch [16/50], Loss:0.0044\n",
            "Epoch [17/50], Loss:0.0036\n",
            "Epoch [18/50], Loss:0.0050\n",
            "Epoch [19/50], Loss:0.0053\n",
            "Epoch [20/50], Loss:0.0043\n",
            "Epoch [21/50], Loss:0.0051\n",
            "Epoch [22/50], Loss:0.0036\n",
            "Epoch [23/50], Loss:0.0043\n",
            "Epoch [24/50], Loss:0.0049\n",
            "Epoch [25/50], Loss:0.0055\n",
            "Epoch [26/50], Loss:0.0039\n",
            "Epoch [27/50], Loss:0.0043\n",
            "Epoch [28/50], Loss:0.0048\n",
            "Epoch [29/50], Loss:0.0043\n",
            "Epoch [30/50], Loss:0.0043\n",
            "Epoch [31/50], Loss:0.0034\n",
            "Epoch [32/50], Loss:0.0040\n",
            "Epoch [33/50], Loss:0.0049\n",
            "Epoch [34/50], Loss:0.0051\n",
            "Epoch [35/50], Loss:0.0039\n",
            "Epoch [36/50], Loss:0.0039\n",
            "Epoch [37/50], Loss:0.0043\n",
            "Epoch [38/50], Loss:0.0049\n",
            "Epoch [39/50], Loss:0.0038\n",
            "Epoch [40/50], Loss:0.0037\n",
            "Epoch [41/50], Loss:0.0050\n",
            "Epoch [42/50], Loss:0.0040\n",
            "Epoch [43/50], Loss:0.0044\n",
            "Epoch [44/50], Loss:0.0040\n",
            "Epoch [45/50], Loss:0.0045\n",
            "Epoch [46/50], Loss:0.0042\n",
            "Epoch [47/50], Loss:0.0048\n",
            "Epoch [48/50], Loss:0.0043\n",
            "Epoch [49/50], Loss:0.0044\n",
            "Epoch [50/50], Loss:0.0038\n"
          ]
        }
      ]
    },
    {
      "cell_type": "code",
      "source": [
        "# Function to display a grid of images\n",
        "def imshow(img, title=None):\n",
        "    npimg = img.cpu().numpy()  # Move the image to CPU and convert to numpy\n",
        "    plt.imshow(np.transpose(npimg, (1, 2, 0)))\n",
        "    if title is not None:\n",
        "        plt.title(title)\n",
        "    plt.show()\n",
        "\n",
        "# Visualization of the original and reconstructed images\n",
        "dataiter = iter(train_loader)\n",
        "images, _ = next(dataiter)\n",
        "images = images.to(device)\n",
        "\n",
        "\n",
        "\n",
        "# Flatten the images to get their original vector representations\n",
        "original_vectors = images.view(-1, 28*28)[:4]\n",
        "print(\"Original Vector Representations:\")\n",
        "print(original_vectors)\n",
        "\n",
        "# Display original images\n",
        "print(\"Original Images\")\n",
        "imshow(vutils.make_grid(images[:4], normalize=True), title=\"Original Images\")\n",
        "\n",
        "# Encoded and decoded images\n",
        "with torch.no_grad():\n",
        "    # Pass the original vector representations through the encoder to get latent space representations\n",
        "    encoded_imgs = model.encoder(original_vectors)\n",
        "\n",
        "    # Decode the latent space representations back into images\n",
        "    decoded_imgs = model.decoder(encoded_imgs).view(-1, 1, 28, 28)\n",
        "\n",
        "# Print latent space representations\n",
        "print(\"Latent space representations:\")\n",
        "print(encoded_imgs)\n",
        "\n",
        "\n",
        "# Display reconstructed images\n",
        "print(\"Reconstructed Images\")\n",
        "imshow(vutils.make_grid(decoded_imgs, normalize=True), title=\"Reconstructed Images\")\n",
        "\n",
        "# Flatten the decoded images to print their vector representations\n",
        "decoded_vectors = decoded_imgs.view(-1, 28*28)\n",
        "print(\"Decoded Image Representations (as vectors):\")\n",
        "print(decoded_vectors)"
      ],
      "metadata": {
        "colab": {
          "base_uri": "https://localhost:8080/",
          "height": 1000
        },
        "id": "FCsJeFk2B2Fi",
        "outputId": "ea7d5090-0e61-4f89-e633-ddb3e1a2932b"
      },
      "execution_count": 11,
      "outputs": [
        {
          "output_type": "stream",
          "name": "stdout",
          "text": [
            "Original Vector Representations:\n",
            "tensor([[0., 0., 0.,  ..., 0., 0., 0.],\n",
            "        [0., 0., 0.,  ..., 0., 0., 0.],\n",
            "        [0., 0., 0.,  ..., 0., 0., 0.],\n",
            "        [0., 0., 0.,  ..., 0., 0., 0.]], device='cuda:0')\n",
            "Original Images\n"
          ]
        },
        {
          "output_type": "display_data",
          "data": {
            "text/plain": [
              "<Figure size 640x480 with 1 Axes>"
            ],
            "image/png": "[encoded data removed]"
          },
          "metadata": {}
        },
        {
          "output_type": "stream",
          "name": "stdout",
          "text": [
            "Latent space representations:\n",
            "tensor([[ 0.0000,  6.1655,  0.0000,  6.2843,  0.0000,  6.2763,  4.2703, 10.4276,\n",
            "          5.2952,  7.6800,  0.0000,  3.6611,  4.7147,  0.0000,  5.3144,  3.8256,\n",
            "          3.6444,  0.0000,  3.6363,  7.4903,  3.6227,  7.4340,  5.2751,  5.6182,\n",
            "          0.0000,  3.9048,  8.2404,  0.0000,  8.7362,  5.1726, 12.1712,  3.7796,\n",
            "          0.0000,  0.0000,  4.1341,  7.4182,  5.4941,  7.4755,  2.2894,  0.0000,\n",
            "          8.6419,  4.2000,  2.2378,  0.0000,  0.0000,  0.0000,  2.3241,  5.6324,\n",
            "          9.4682,  6.0871,  3.4105,  4.7113,  4.9647,  4.5930,  6.6053, 11.9802,\n",
            "          6.5412, 10.7213,  3.4069,  5.8490, 12.9175,  9.4034,  0.0000,  6.4887],\n",
            "        [ 0.0000,  6.9969,  0.0000,  1.6964,  0.0000,  4.6963,  3.6283,  2.8697,\n",
            "          2.6111,  5.0287,  0.0000,  2.6173,  5.1573,  0.0000,  3.4333,  3.8919,\n",
            "          5.8939,  0.0000,  6.2608,  6.0736,  3.4316,  8.4329,  5.7137,  4.1022,\n",
            "          0.0000,  5.0584,  2.5797,  0.0000,  1.3678,  0.7752,  9.3053,  4.2577,\n",
            "          0.0000,  0.0000,  2.8813,  1.2377,  5.1628,  6.9160,  8.3757,  0.0000,\n",
            "          5.0152,  1.7149,  4.3719,  0.0000,  0.0000,  0.0000,  3.0082,  3.5583,\n",
            "          8.5391,  4.4899,  3.2414,  1.3053,  6.1410,  4.1593,  5.6815,  8.1300,\n",
            "          6.0199,  5.8727,  2.5822,  3.8300,  3.4675,  4.2417,  0.0000,  3.9086],\n",
            "        [ 0.0000,  6.2384,  0.0000,  5.0834,  0.0000,  3.1392,  2.8465,  1.7341,\n",
            "          5.8431,  5.6722,  0.0000,  3.5863,  5.0447,  0.0000,  3.2936,  2.4265,\n",
            "          3.4065,  0.0000,  5.1548,  3.2159,  6.2589,  3.5304,  1.4615,  6.6031,\n",
            "          0.0000,  3.7467,  3.8307,  0.0000,  7.1508,  5.4512,  4.0665,  3.4852,\n",
            "          0.0000,  0.0000,  4.2853,  4.2193,  8.8575,  4.5693,  6.0240,  0.0000,\n",
            "          6.5959,  5.4110,  4.0318,  0.0000,  0.0000,  0.0000,  2.0878,  5.5698,\n",
            "          5.8624,  1.4761,  3.6353,  2.7417,  7.5088,  4.2413,  4.1916,  9.2196,\n",
            "          2.4462,  2.1753,  0.2560,  2.9605,  3.8122,  7.8286,  0.0000,  4.3897],\n",
            "        [ 0.0000,  3.0998,  0.0000,  4.6572,  0.0000,  9.0025,  5.3417,  7.2933,\n",
            "          5.3030,  4.8735,  0.0000,  1.4107,  4.2641,  0.0000,  3.5084,  5.0696,\n",
            "          2.2196,  0.0000,  2.1687,  8.4104,  4.9575,  4.8796,  4.9249,  2.5773,\n",
            "          0.0000,  1.4325,  2.1810,  0.0000,  2.6288,  4.2023,  4.8813,  6.7371,\n",
            "          0.0000,  0.0000,  3.7446,  1.9396,  3.4372,  5.6840,  9.0126,  0.0000,\n",
            "          4.1349,  5.4140,  4.1085,  0.0000,  0.0000,  0.0000,  5.1025,  4.7997,\n",
            "          6.7743,  1.0738,  6.1738,  4.4112,  0.3086,  5.5156,  1.8124,  5.8500,\n",
            "          6.8978,  7.6966,  5.5402,  3.2465,  6.2433,  0.7307,  0.0000,  3.5815]],\n",
            "       device='cuda:0')\n",
            "Reconstructed Images\n"
          ]
        },
        {
          "output_type": "display_data",
          "data": {
            "text/plain": [
              "<Figure size 640x480 with 1 Axes>"
            ],
            "image/png": "[encoded data removed]"
          },
          "metadata": {}
        },
        {
          "output_type": "stream",
          "name": "stdout",
          "text": [
            "Decoded Image Representations (as vectors):\n",
            "tensor([[9.0855e-08, 8.1825e-08, 4.2739e-07,  ..., 4.5458e-08, 4.4066e-07,\n",
            "         2.9558e-08],\n",
            "        [9.9584e-07, 5.1425e-06, 2.7670e-06,  ..., 3.3005e-06, 1.6789e-06,\n",
            "         4.5070e-07],\n",
            "        [6.7664e-06, 5.9952e-07, 7.6429e-07,  ..., 6.8727e-06, 2.7230e-06,\n",
            "         5.5578e-06],\n",
            "        [1.3892e-06, 1.4133e-06, 1.5412e-06,  ..., 4.7615e-06, 6.4376e-06,\n",
            "         3.0613e-06]], device='cuda:0')\n"
          ]
        }
      ]
    }
  ]
}