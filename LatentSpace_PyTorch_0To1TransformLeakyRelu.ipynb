{
  "nbformat": 4,
  "nbformat_minor": 0,
  "metadata": {
    "colab": {
      "provenance": [],
      "machine_shape": "hm",
      "gpuType": "A100",
      "authorship_tag": "ABX9TyPkd3lwWqdC/UENr8LOT1Rg",
      "include_colab_link": true
    },
    "kernelspec": {
      "name": "python3",
      "display_name": "Python 3"
    },
    "language_info": {
      "name": "python"
    },
    "accelerator": "GPU"
  },
  "cells": [
    {
      "cell_type": "markdown",
      "metadata": {
        "id": "view-in-github",
        "colab_type": "text"
      },
      "source": [
        "<a href=\"https://colab.research.google.com/github/vijaygwu/IntroToDeepLearning/blob/main/Class_1_LatentSpace_PyTorch_LeakyRelu.ipynb\" target=\"_parent\"><img src=\"https://colab.research.google.com/assets/colab-badge.svg\" alt=\"Open In Colab\"/></a>"
      ]
    },
    {
      "cell_type": "markdown",
      "source": [
        "The provided code defines and utilizes an Autoencoder neural network for the MNIST dataset. Here's a detailed explanation:\n",
        "\n",
        "- **Autoencoder Class**: This class creates a neural network with encoder and decoder components. The encoder compresses the input image into a lower-dimensional latent space, and the decoder reconstructs the image from this latent space. The network is structured to flatten and process 28x28 grayscale MNIST images.\n",
        "\n",
        "- **Data Loading**: Utilizes PyTorch's DataLoader to efficiently load the MNIST dataset, applying transformations to normalize the images.\n",
        "\n",
        "- **Training Loop**: Iterates over the training dataset, feeding batches of images through the model, calculating the reconstruction loss, and updating the model's weights to minimize this loss, effectively learning to compress and reconstruct the input images.\n",
        "\n",
        "- **Visualization**: After training, the script visualizes a batch of original images and their reconstructions from the autoencoder. It also prints the latent space representations, showcasing what the model has learned to encode.\n",
        "\n",
        "- **Utility Functions**: Includes `imshow` for displaying tensors as images. It unnormalizes the data and uses Matplotlib to plot them.\n",
        "\n",
        "This script encapsulates the end-to-end process of training an autoencoder on the MNIST dataset, visualizing the results, and examining the learned latent space."
      ],
      "metadata": {
        "id": "MXble1sY6GuN"
      }
    },
    {
      "cell_type": "code",
      "source": [
        "import torch\n",
        "import torch.nn as nn\n",
        "import torchvision\n",
        "import torchvision.transforms as transforms\n",
        "from torchvision.datasets import MNIST\n",
        "from torch.utils.data import DataLoader\n",
        "import matplotlib.pyplot as plt\n",
        "import torchvision.utils as vutils\n",
        "import numpy as np\n",
        "from torch.cuda.amp import GradScaler, autocast"
      ],
      "metadata": {
        "id": "QTp8sYxwBg-1"
      },
      "execution_count": 7,
      "outputs": []
    },
    {
      "cell_type": "markdown",
      "source": [
        " The `Autoencoder` class inherits from `nn.Module`, a base class for all neural network modules in PyTorch. Here's a breakdown of the code and its functionality:\n",
        "\n",
        "### Initialization Method (`__init__`)\n",
        "- **Parameters**: The `__init__` method accepts a single parameter `encoding_dim`, which specifies the size of the latent space where the input data is compressed.\n",
        "- **Encoder**: The encoder part of the autoencoder is designed to compress the input data (in this case, an image) into a lower-dimensional representation called the latent space. It consists of a sequence of layers:\n",
        "  - `nn.Linear(28 * 28, 128)`: This layer flattens the input image (assumed to be 28x28 pixels, typical for MNIST dataset images) into a one-dimensional array and performs a linear transformation to reduce its dimension to 128.\n",
        "  - `nn.ReLU(True)`: A Rectified Linear Unit (ReLU) activation function is applied to introduce non-linearity, helping the model learn complex patterns.\n",
        "  - Another `nn.Linear(128, encoding_dim)`: Further reduces the dimension from 128 to the specified `encoding_dim`.\n",
        "  - Another `nn.ReLU(True)`: Another ReLU activation for non-linearity.\n",
        "- **Decoder**: The decoder part reconstructs the original input data from the compressed representation. It mirrors the encoder structure but in reverse, aiming to expand the compressed data back to its original shape:\n",
        "  - `nn.Linear(encoding_dim, 128)`: Expands the compressed data from `encoding_dim` back to 128.\n",
        "  - `nn.ReLU(True)`: Applies ReLU activation.\n",
        "  - `nn.Linear(128, 28 * 28)`: Transforms the data from 128 back to the flattened image size of 784 (28x28).\n",
        "  -  'nn.LeakyReLU()': Applies the Leaky ReLU activation function\n",
        "\n",
        "### Forward Method (`forward`)\n",
        "- **Parameter**: The `forward` method defines how the input `x` flows through the network.\n",
        "- **Process**:\n",
        "  - `x.view(-1, 28*28)`: First, the input `x` is reshaped into a one-dimensional array (flattened) if not already done.\n",
        "  - `self.encoder(x)`: The flattened `x` is then passed through the encoder.\n",
        "  - `self.decoder(x)`: The output from the encoder, which is the compressed representation, is fed into the decoder.\n",
        "- **Output**: The final output is reshaped back to the original image dimensions (`-1, 1, 28, 28`), where `-1` is a placeholder that automatically adjusts based on the batch size.\n"
      ],
      "metadata": {
        "id": "Lth1Gula4Sz_"
      }
    },
    {
      "cell_type": "code",
      "source": [
        "class Autoencoder(nn.Module):\n",
        "    def __init__(self, encoding_dim):\n",
        "        super(Autoencoder, self).__init__()\n",
        "        # Encoder: compresses the image into a lower-dimensional latent space\n",
        "        self.encoder = nn.Sequential(\n",
        "            nn.Linear(28 * 28, 128),  # Flatten the image and then linearly transform it\n",
        "            nn.ReLU(True),  # Non-linear activation function\n",
        "            nn.Linear(128, encoding_dim),  # Linear transformation to the encoding dimension\n",
        "            nn.ReLU(True)  # Non-linear activation function\n",
        "        )\n",
        "        # Decoder: reconstructs the image from the latent space\n",
        "        self.decoder = nn.Sequential(\n",
        "            nn.Linear(encoding_dim, 128),  # Linearly transforms the encoding\n",
        "            nn.ReLU(True),  # Non-linear activation function\n",
        "            nn.Linear(128, 28 * 28),  # Transforms back to original image shape\n",
        "            nn.LeakyReLU() # Leaky ReLU activation function\n",
        "        )\n",
        "\n",
        "    def forward(self, x):\n",
        "        x = self.encoder(x.view(-1, 28*28))  # Encode the input image\n",
        "        x = self.decoder(x)  # Decode the encoded image\n",
        "        return x.view(-1, 1, 28, 28)  # Reshape to the original image dimensions"
      ],
      "metadata": {
        "id": "wWlX07fEBjL8"
      },
      "execution_count": 15,
      "outputs": []
    },
    {
      "cell_type": "code",
      "source": [
        "\n",
        "def imshow(img):\n",
        "    img = img.cpu() / 2 + 0.5  # Unnormalize the image\n",
        "    npimg = img.numpy()  # Convert the tensor to a numpy array\n",
        "    plt.imshow(np.transpose(npimg, (1, 2, 0)))  # Reshape and display the image\n",
        "    plt.show()"
      ],
      "metadata": {
        "id": "yP7S8PazBoD5"
      },
      "execution_count": 16,
      "outputs": []
    },
    {
      "cell_type": "markdown",
      "source": [
        "## Transform\n",
        "\n",
        "Transform is a crucial preprocessing step in many PyTorch workflows, ensuring that images are in the correct format and scale for efficient training of neural networks.\n",
        "\n",
        "\n",
        "\n",
        "### What This Code Does:\n",
        "\n",
        "1. **`transforms.Compose([])`**:\n",
        "   - **Purpose**: This function is used to chain together multiple image transformations. The transformations are applied in the order they are listed inside the square brackets.\n",
        "   - **Example Use Case**: If you need to apply several preprocessing steps to your images (e.g., resizing, converting to a tensor, normalizing), you can group them together using `transforms.Compose`.\n",
        "\n",
        "2. **`transforms.ToTensor()`**:\n",
        "   - **Purpose**: Converts an image to a PyTorch tensor.\n",
        "   - **Detailed Explanation**:\n",
        "     - **Input**: This function expects the input to be a PIL (Python Imaging Library) image or a NumPy `ndarray`.\n",
        "     - **Conversion**: It converts the input image into a PyTorch tensor. If the image is a PIL image, it is typically in the format `(H, W, C)` where `H` is height, `W` is width, and `C` is the number of channels (e.g., 3 for RGB, 1 for grayscale). `ToTensor()` converts this into a tensor with shape `(C, H, W)`.\n",
        "     - **Pixel Value Scaling**: Additionally, it scales the pixel values from the range `[0, 255]` (common in image data) to `[0.0, 1.0]` by dividing each pixel value by 255. This scaling is important because many machine learning models perform better when input data is normalized or standardized, rather than using raw pixel values.\n",
        "\n",
        "3. **Why Use This Transformation?**:\n",
        "   - **PyTorch Compatibility**: PyTorch models require input data to be in tensor format. `transforms.ToTensor()` is a convenient way to convert image data into the format that PyTorch models can directly work with.\n",
        "   - **Data Range**: Scaling pixel values to the `[0, 1]` range is a standard preprocessing step. This helps in speeding up the convergence of the training process because the data is more normalized.\n",
        "\n",
        "### How This Transformation Fits into a Workflow:\n",
        "\n",
        "- **Loading Images**: Typically, images are loaded from a dataset using `torchvision.datasets` or another data loading utility. These images are often in the form of PIL images or NumPy arrays.\n",
        "- **Applying Transformations**: The `transform` defined above is applied to these images to convert them into tensors and scale the pixel values.\n",
        "- **Model Input**: The resulting tensor is then used as input to a PyTorch model for training or inference.\n"
      ],
      "metadata": {
        "id": "4uO943VO6n7n"
      }
    },
    {
      "cell_type": "code",
      "source": [
        "# Transform: converts images to PyTorch tensors and normalizes from 0 to 1\n",
        "transform = transforms.Compose([\n",
        "    transforms.ToTensor(),\n",
        "])\n"
      ],
      "metadata": {
        "id": "yJAgqh0TBrMa"
      },
      "execution_count": 17,
      "outputs": []
    },
    {
      "cell_type": "code",
      "source": [
        "# MNIST dataset loading\n",
        "train_dataset = MNIST(root='./data', train=True, download=True, transform=transform)\n",
        "train_loader = DataLoader(dataset=train_dataset, batch_size=64, shuffle=True)"
      ],
      "metadata": {
        "id": "cQpswSgnBw4E"
      },
      "execution_count": 18,
      "outputs": []
    },
    {
      "cell_type": "code",
      "source": [
        "device = torch.device(\"cuda\" if torch.cuda.is_available() else \"cpu\")\n",
        "model = Autoencoder(encoding_dim=64).to(device)\n",
        "criterion = nn.MSELoss()  # Loss function\n",
        "optimizer = torch.optim.Adam(model.parameters(), lr=1e-3)  # Optimizer"
      ],
      "metadata": {
        "id": "W8NemtCtB35p"
      },
      "execution_count": 19,
      "outputs": []
    },
    {
      "cell_type": "code",
      "source": [
        "# Training loop\n",
        "num_epochs = 50\n",
        "scaler = GradScaler()\n",
        "\n",
        "for epoch in range(num_epochs):\n",
        "    for data in train_loader:\n",
        "        img, _ = data\n",
        "        img = img.to(device)\n",
        "\n",
        "        with autocast():\n",
        "            output = model(img)\n",
        "            loss = criterion(output, img)\n",
        "\n",
        "        optimizer.zero_grad()\n",
        "        scaler.scale(loss).backward()\n",
        "        scaler.step(optimizer)\n",
        "        scaler.update()\n",
        "    print('Epoch [{}/{}], Loss:{:.4f}'.format(epoch+1, num_epochs, loss.item()))\n",
        "\n",
        "\n"
      ],
      "metadata": {
        "colab": {
          "base_uri": "https://localhost:8080/"
        },
        "id": "GRk72snY6LPD",
        "outputId": "fe6afc49-3c09-494f-ee5d-04b15d188434"
      },
      "execution_count": 22,
      "outputs": [
        {
          "output_type": "stream",
          "name": "stderr",
          "text": [
            "<ipython-input-22-2a29fac7d930>:3: FutureWarning: `torch.cuda.amp.GradScaler(args...)` is deprecated. Please use `torch.amp.GradScaler('cuda', args...)` instead.\n",
            "  scaler = GradScaler()\n",
            "<ipython-input-22-2a29fac7d930>:10: FutureWarning: `torch.cuda.amp.autocast(args...)` is deprecated. Please use `torch.amp.autocast('cuda', args...)` instead.\n",
            "  with autocast():\n"
          ]
        },
        {
          "output_type": "stream",
          "name": "stdout",
          "text": [
            "Epoch [1/50], Loss:0.0075\n",
            "Epoch [2/50], Loss:0.0070\n",
            "Epoch [3/50], Loss:0.0071\n",
            "Epoch [4/50], Loss:0.0071\n",
            "Epoch [5/50], Loss:0.0075\n",
            "Epoch [6/50], Loss:0.0077\n",
            "Epoch [7/50], Loss:0.0075\n",
            "Epoch [8/50], Loss:0.0066\n",
            "Epoch [9/50], Loss:0.0074\n",
            "Epoch [10/50], Loss:0.0074\n",
            "Epoch [11/50], Loss:0.0073\n",
            "Epoch [12/50], Loss:0.0078\n",
            "Epoch [13/50], Loss:0.0073\n",
            "Epoch [14/50], Loss:0.0070\n",
            "Epoch [15/50], Loss:0.0071\n",
            "Epoch [16/50], Loss:0.0065\n",
            "Epoch [17/50], Loss:0.0056\n",
            "Epoch [18/50], Loss:0.0056\n",
            "Epoch [19/50], Loss:0.0075\n",
            "Epoch [20/50], Loss:0.0062\n",
            "Epoch [21/50], Loss:0.0065\n",
            "Epoch [22/50], Loss:0.0058\n",
            "Epoch [23/50], Loss:0.0076\n",
            "Epoch [24/50], Loss:0.0063\n",
            "Epoch [25/50], Loss:0.0069\n",
            "Epoch [26/50], Loss:0.0063\n",
            "Epoch [27/50], Loss:0.0071\n",
            "Epoch [28/50], Loss:0.0049\n",
            "Epoch [29/50], Loss:0.0061\n",
            "Epoch [30/50], Loss:0.0071\n",
            "Epoch [31/50], Loss:0.0056\n",
            "Epoch [32/50], Loss:0.0062\n",
            "Epoch [33/50], Loss:0.0071\n",
            "Epoch [34/50], Loss:0.0057\n",
            "Epoch [35/50], Loss:0.0053\n",
            "Epoch [36/50], Loss:0.0055\n",
            "Epoch [37/50], Loss:0.0059\n",
            "Epoch [38/50], Loss:0.0064\n",
            "Epoch [39/50], Loss:0.0062\n",
            "Epoch [40/50], Loss:0.0072\n",
            "Epoch [41/50], Loss:0.0059\n",
            "Epoch [42/50], Loss:0.0064\n",
            "Epoch [43/50], Loss:0.0060\n",
            "Epoch [44/50], Loss:0.0054\n",
            "Epoch [45/50], Loss:0.0060\n",
            "Epoch [46/50], Loss:0.0051\n",
            "Epoch [47/50], Loss:0.0056\n",
            "Epoch [48/50], Loss:0.0064\n",
            "Epoch [49/50], Loss:0.0071\n",
            "Epoch [50/50], Loss:0.0057\n"
          ]
        }
      ]
    },
    {
      "cell_type": "code",
      "source": [
        "# Function to display a grid of images\n",
        "def imshow(img, title=None):\n",
        "    npimg = img.cpu().numpy()  # Move the image to CPU and convert to numpy\n",
        "    plt.imshow(np.transpose(npimg, (1, 2, 0)))\n",
        "    if title is not None:\n",
        "        plt.title(title)\n",
        "    plt.show()\n",
        "\n",
        "# Visualization of the original and reconstructed images\n",
        "dataiter = iter(train_loader)\n",
        "images, _ = next(dataiter)\n",
        "images = images.to(device)\n",
        "\n",
        "\n",
        "\n",
        "# Flatten the images to get their original vector representations\n",
        "original_vectors = images.view(-1, 28*28)[:4]\n",
        "print(\"Original Vector Representations:\")\n",
        "print(original_vectors)\n",
        "\n",
        "# Display original images\n",
        "print(\"Original Images\")\n",
        "imshow(vutils.make_grid(images[:4], normalize=True), title=\"Original Images\")\n",
        "\n",
        "# Encoded and decoded images\n",
        "with torch.no_grad():\n",
        "    # Pass the original vector representations through the encoder to get latent space representations\n",
        "    encoded_imgs = model.encoder(original_vectors)\n",
        "\n",
        "    # Decode the latent space representations back into images\n",
        "    decoded_imgs = model.decoder(encoded_imgs).view(-1, 1, 28, 28)\n",
        "\n",
        "# Print latent space representations\n",
        "print(\"Latent space representations:\")\n",
        "print(encoded_imgs)\n",
        "\n",
        "\n",
        "# Display reconstructed images\n",
        "print(\"Reconstructed Images\")\n",
        "imshow(vutils.make_grid(decoded_imgs, normalize=True), title=\"Reconstructed Images\")\n",
        "\n",
        "# Flatten the decoded images to print their vector representations\n",
        "decoded_vectors = decoded_imgs.view(-1, 28*28)\n",
        "print(\"Decoded Image Representations (as vectors):\")\n",
        "print(decoded_vectors)\n"
      ],
      "metadata": {
        "colab": {
          "base_uri": "https://localhost:8080/",
          "height": 1000
        },
        "id": "LND6_YbB4SI1",
        "outputId": "1653e9ca-a6ef-4c99-966b-f0ab2502d641"
      },
      "execution_count": 23,
      "outputs": [
        {
          "output_type": "stream",
          "name": "stdout",
          "text": [
            "Original Vector Representations:\n",
            "tensor([[0., 0., 0.,  ..., 0., 0., 0.],\n",
            "        [0., 0., 0.,  ..., 0., 0., 0.],\n",
            "        [0., 0., 0.,  ..., 0., 0., 0.],\n",
            "        [0., 0., 0.,  ..., 0., 0., 0.]], device='cuda:0')\n",
            "Original Images\n"
          ]
        },
        {
          "output_type": "display_data",
          "data": {
            "text/plain": [
              "<Figure size 640x480 with 1 Axes>"
            ],
            "image/png": "[encoded data removed]"
          },
          "metadata": {}
        },
        {
          "output_type": "stream",
          "name": "stdout",
          "text": [
            "Latent space representations:\n",
            "tensor([[0.0000, 0.8146, 2.2715, 0.7667, 0.2386, 0.7731, 1.1712, 0.3172, 1.3634,\n",
            "         3.2306, 0.3094, 2.3666, 0.7462, 1.5423, 1.6093, 0.0000, 1.7697, 0.0000,\n",
            "         0.9425, 1.9937, 0.6860, 0.0000, 0.0000, 0.0000, 1.6590, 0.0000, 0.9926,\n",
            "         0.5916, 0.0000, 2.2400, 2.2815, 0.0000, 1.1143, 0.0000, 2.0786, 0.9893,\n",
            "         0.0000, 0.0000, 2.4128, 2.1591, 0.7143, 0.3837, 1.9645, 1.3654, 1.7517,\n",
            "         1.7941, 1.5862, 0.0000, 0.0000, 1.7230, 1.2650, 0.0097, 0.9672, 0.4128,\n",
            "         0.0000, 0.0000, 1.9015, 2.3240, 0.0000, 1.0881, 0.0000, 0.0000, 1.5820,\n",
            "         1.1291],\n",
            "        [0.0000, 0.3320, 1.9114, 1.5350, 0.9673, 2.3116, 2.6723, 1.7960, 1.8260,\n",
            "         1.9161, 0.6643, 2.3875, 0.3757, 2.0299, 1.6473, 0.0000, 2.2255, 0.0000,\n",
            "         1.0264, 2.2996, 0.5350, 0.0000, 0.0000, 0.0000, 0.5460, 0.0000, 1.3068,\n",
            "         1.5522, 0.0000, 1.8641, 2.6347, 0.0000, 1.1044, 0.0000, 3.4068, 1.2689,\n",
            "         0.0000, 0.0000, 3.0507, 1.7016, 2.3190, 0.7482, 1.8968, 1.5156, 0.2247,\n",
            "         0.5570, 0.3925, 0.0000, 0.0000, 2.0267, 1.0507, 1.5965, 0.9157, 1.9562,\n",
            "         0.0000, 0.0000, 2.1568, 1.8970, 0.0000, 0.8286, 0.0000, 0.0000, 1.5495,\n",
            "         1.2938],\n",
            "        [0.0000, 1.6652, 1.5522, 1.0863, 2.0214, 0.3633, 0.5699, 0.8986, 1.8209,\n",
            "         2.3013, 2.0532, 1.1878, 1.2403, 1.9243, 0.6307, 0.0000, 0.5654, 0.0000,\n",
            "         1.6143, 1.8266, 1.0322, 0.0000, 0.0000, 0.0000, 0.5967, 0.0000, 1.8947,\n",
            "         1.2880, 0.0000, 2.8351, 1.2902, 0.0000, 2.0966, 0.0000, 0.9073, 0.7117,\n",
            "         0.0000, 0.0000, 1.6145, 0.9226, 1.7511, 0.9869, 1.2646, 1.7761, 2.1463,\n",
            "         1.2248, 2.3499, 0.0000, 0.0000, 0.8510, 1.0314, 0.3531, 2.4389, 0.8620,\n",
            "         0.0000, 0.0000, 1.4466, 1.4706, 0.0000, 1.0340, 0.0000, 0.0000, 1.0390,\n",
            "         2.0486],\n",
            "        [0.0000, 1.8552, 1.5490, 0.6144, 2.0111, 0.5073, 0.4546, 1.1772, 1.8406,\n",
            "         1.1564, 1.2203, 1.6507, 0.9130, 3.2379, 0.6707, 0.0000, 1.0212, 0.0000,\n",
            "         1.1953, 2.6965, 1.9667, 0.0000, 0.0000, 0.0000, 2.7970, 0.0000, 0.8614,\n",
            "         1.8385, 0.0000, 2.4830, 1.2932, 0.0000, 0.9528, 0.0000, 0.9937, 1.2803,\n",
            "         0.0000, 0.0000, 1.6391, 2.0155, 1.1861, 0.7453, 1.1320, 0.8092, 1.6120,\n",
            "         3.0103, 1.6412, 0.0000, 0.0000, 2.5275, 2.1655, 1.1193, 0.9701, 0.1205,\n",
            "         0.0000, 0.0000, 0.6063, 0.9967, 0.0000, 0.9543, 0.0000, 0.0000, 1.8990,\n",
            "         1.2010]], device='cuda:0')\n",
            "Reconstructed Images\n"
          ]
        },
        {
          "output_type": "display_data",
          "data": {
            "text/plain": [
              "<Figure size 640x480 with 1 Axes>"
            ],
            "image/png": "[encoded data removed]"
          },
          "metadata": {}
        },
        {
          "output_type": "stream",
          "name": "stdout",
          "text": [
            "Decoded Image Representations (as vectors):\n",
            "tensor([[-1.4241e-04, -3.9313e-04, -1.3408e-04,  ..., -5.1021e-04,\n",
            "         -1.2632e-04, -3.7951e-04],\n",
            "        [-1.3533e-04, -2.7518e-04, -3.0659e-04,  ..., -6.0659e-04,\n",
            "         -1.6410e-04, -4.6241e-04],\n",
            "        [-9.4761e-05, -2.1551e-04, -1.8719e-04,  ..., -5.7467e-04,\n",
            "         -1.2633e-04, -2.4663e-04],\n",
            "        [-8.3636e-05, -4.1866e-04, -1.8859e-04,  ..., -6.1662e-04,\n",
            "         -1.8752e-04, -3.1393e-04]], device='cuda:0')\n"
          ]
        }
      ]
    }
  ]
}
